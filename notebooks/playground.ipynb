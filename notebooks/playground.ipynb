{
 "cells": [
  {
   "cell_type": "code",
   "execution_count": 2,
   "metadata": {},
   "outputs": [],
   "source": [
    "from ppe.objects import Ball, ConvexPolygon\n",
    "from ppe.vector import Vector"
   ]
  },
  {
   "cell_type": "code",
   "execution_count": 3,
   "metadata": {},
   "outputs": [],
   "source": [
    "rectangle_small = ConvexPolygon(\n",
    "    Vector(0, 0),\n",
    "    Vector(0, 0),\n",
    "    0,\n",
    "    0,\n",
    "    1,\n",
    "    [\n",
    "        Vector(0, 0),\n",
    "        Vector(0, 0.1),\n",
    "        Vector(0.1, 0.1),\n",
    "        Vector(0.1, 0),\n",
    "    ],\n",
    "    False,\n",
    "    (255, 255, 255),\n",
    "    name=\"rectangle_small\",\n",
    ")\n",
    "rectangle_big = ConvexPolygon(\n",
    "    Vector(0, 0),\n",
    "    Vector(0, 0),\n",
    "    0,\n",
    "    0,\n",
    "    1,\n",
    "    [\n",
    "        Vector(0.25, 0.75),\n",
    "        Vector(0.25, 1.25),\n",
    "        Vector(0.75, 1.25),\n",
    "        Vector(0.75, 0.75),\n",
    "    ],\n",
    "    False,\n",
    "    (255, 255, 255),\n",
    "    name=\"rectangle_big\",\n",
    ")"
   ]
  },
  {
   "cell_type": "code",
   "execution_count": 4,
   "metadata": {},
   "outputs": [
    {
     "name": "stdout",
     "output_type": "stream",
     "text": [
      "normal: Vector(-1.0, 0.0), depth: -0.15\n",
      "normal: Vector(-0.0, 1.0), depth: -0.65\n",
      "normal: Vector(1.0, 0.0), depth: -0.15\n",
      "normal: Vector(-0.0, -1.0), depth: -0.65\n"
     ]
    }
   ],
   "source": [
    "for normal, p1, p2, edge in rectangle_big.get_normals():\n",
    "    min1, max1 = rectangle_big.projected_extends(normal)\n",
    "    min2, max2 = rectangle_small.projected_extends(normal)\n",
    "\n",
    "    depth = min(max1, max2) - max(min1, min2)\n",
    "\n",
    "    print(f\"normal: {normal}, depth: {depth}\")"
   ]
  }
 ],
 "metadata": {
  "kernelspec": {
   "display_name": "ppe",
   "language": "python",
   "name": "python3"
  },
  "language_info": {
   "codemirror_mode": {
    "name": "ipython",
    "version": 3
   },
   "file_extension": ".py",
   "mimetype": "text/x-python",
   "name": "python",
   "nbconvert_exporter": "python",
   "pygments_lexer": "ipython3",
   "version": "3.10.13"
  }
 },
 "nbformat": 4,
 "nbformat_minor": 2
}
